{
 "cells": [
  {
   "attachments": {},
   "cell_type": "markdown",
   "id": "f8d9d2b8",
   "metadata": {},
   "source": [
    "# Write a basic programme of pythons"
   ]
  },
  {
   "attachments": {},
   "cell_type": "markdown",
   "id": "1a85c453",
   "metadata": {},
   "source": [
    "## Write a Python program to solve the equation z = |x  y| * (x + y)."
   ]
  },
  {
   "cell_type": "code",
   "execution_count": 2,
   "id": "a0a65c17",
   "metadata": {},
   "outputs": [],
   "source": [
    "x= int(input(\"enter x \"))\n",
    "y= int(input(\"enter y \"))\n",
    "z = abs(x-y)*(x+y)\n",
    "print(z)"
   ]
  },
  {
   "cell_type": "code",
   "execution_count": null,
   "id": "72b41f69",
   "metadata": {},
   "outputs": [],
   "source": []
  }
 ],
 "metadata": {
  "kernelspec": {
   "display_name": "Python 3 (ipykernel)",
   "language": "python",
   "name": "python3"
  },
  "language_info": {
   "codemirror_mode": {
    "name": "ipython",
    "version": 3
   },
   "file_extension": ".py",
   "mimetype": "text/x-python",
   "name": "python",
   "nbconvert_exporter": "python",
   "pygments_lexer": "ipython3",
   "version": "3.10.4"
  }
 },
 "nbformat": 4,
 "nbformat_minor": 5
}
